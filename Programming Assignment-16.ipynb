{
 "cells": [
  {
   "cell_type": "code",
   "execution_count": 1,
   "id": "05b1fb62-4f39-421f-8dc9-dc937c9a289f",
   "metadata": {},
   "outputs": [
    {
     "name": "stdout",
     "output_type": "stream",
     "text": [
      "in... in... incredible?\n"
     ]
    }
   ],
   "source": [
    "def stutter(word):\n",
    "    return f\"{word[:2]}... {word[:2]}... {word}?\"\n",
    "\n",
    "# Example input\n",
    "word = \"incredible\"\n",
    "print(stutter(word))"
   ]
  },
  {
   "cell_type": "code",
   "execution_count": 2,
   "id": "92d13f53-8a2e-42ab-90d5-44dcd25ea3f6",
   "metadata": {},
   "outputs": [
    {
     "name": "stdout",
     "output_type": "stream",
     "text": [
      "1.57 radians = 90.0 degrees\n"
     ]
    }
   ],
   "source": [
    "import math\n",
    "\n",
    "def radians_to_degrees(rad):\n",
    "    degrees = math.degrees(rad)\n",
    "    return round(degrees, 1)\n",
    "\n",
    "# Example input\n",
    "radian_value = 1.57\n",
    "print(f\"{radian_value} radians = {radians_to_degrees(radian_value)} degrees\")\n"
   ]
  },
  {
   "cell_type": "code",
   "execution_count": 3,
   "id": "4d9900e1-44d2-462d-96d8-ff116141819f",
   "metadata": {},
   "outputs": [
    {
     "name": "stdout",
     "output_type": "stream",
     "text": [
      "5 is a Curzon number: True\n"
     ]
    }
   ],
   "source": [
    "def is_curzon(num):\n",
    "    left = 1 + 2 ** num\n",
    "    right = 1 + 2 * num\n",
    "    return left % right == 0\n",
    "\n",
    "# Example input\n",
    "number = 5\n",
    "print(f\"{number} is a Curzon number: {is_curzon(number)}\")\n"
   ]
  },
  {
   "cell_type": "code",
   "execution_count": 4,
   "id": "8c16cc56-342a-470b-97d8-9d76dcb77ac2",
   "metadata": {},
   "outputs": [
    {
     "name": "stdout",
     "output_type": "stream",
     "text": [
      "Area of hexagon with side 4: 41.57\n"
     ]
    }
   ],
   "source": [
    "import math\n",
    "\n",
    "def hexagon_area(x):\n",
    "    area = (3 * math.sqrt(3) * x ** 2) / 2\n",
    "    return area\n",
    "\n",
    "# Example input\n",
    "side_length = 4\n",
    "print(f\"Area of hexagon with side {side_length}: {hexagon_area(side_length):.2f}\")\n"
   ]
  },
  {
   "cell_type": "code",
   "execution_count": 5,
   "id": "29022321-78b5-4343-8126-c675ca93ad20",
   "metadata": {},
   "outputs": [
    {
     "name": "stdout",
     "output_type": "stream",
     "text": [
      "Binary representation of 42: 101010\n"
     ]
    }
   ],
   "source": [
    "def decimal_to_binary(dec_str):\n",
    "    dec_num = int(dec_str)\n",
    "    binary_str = bin(dec_num)[2:]\n",
    "    return binary_str\n",
    "\n",
    "# Example input\n",
    "decimal_string = \"42\"\n",
    "print(f\"Binary representation of {decimal_string}: {decimal_to_binary(decimal_string)}\")\n"
   ]
  },
  {
   "cell_type": "code",
   "execution_count": null,
   "id": "92dcbab2-a0ff-4ea4-ac64-73c4a10596cc",
   "metadata": {},
   "outputs": [],
   "source": []
  }
 ],
 "metadata": {
  "kernelspec": {
   "display_name": "Python [conda env:base] *",
   "language": "python",
   "name": "conda-base-py"
  },
  "language_info": {
   "codemirror_mode": {
    "name": "ipython",
    "version": 3
   },
   "file_extension": ".py",
   "mimetype": "text/x-python",
   "name": "python",
   "nbconvert_exporter": "python",
   "pygments_lexer": "ipython3",
   "version": "3.13.5"
  }
 },
 "nbformat": 4,
 "nbformat_minor": 5
}
