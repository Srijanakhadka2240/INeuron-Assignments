{
 "cells": [
  {
   "cell_type": "code",
   "execution_count": 1,
   "id": "8fc7dcb5-c669-4cc5-b6ae-6460a2baaa93",
   "metadata": {},
   "outputs": [
    {
     "name": "stdout",
     "output_type": "stream",
     "text": [
      "Array: [10, 20, 30, 40, 50]\n",
      "Sum of array elements is 150\n"
     ]
    }
   ],
   "source": [
    "arr = [10, 20, 30, 40, 50]\n",
    "total_sum = sum(arr)\n",
    "print(f\"Array: {arr}\")\n",
    "print(f\"Sum of array elements is {total_sum}\")"
   ]
  },
  {
   "cell_type": "code",
   "execution_count": 2,
   "id": "e62376a7-2cb7-4aca-b37a-3a376971f334",
   "metadata": {},
   "outputs": [
    {
     "name": "stdout",
     "output_type": "stream",
     "text": [
      "Array: [10, 45, 23, 67, 34, 89, 2]\n",
      "Largest element in the array is 89\n"
     ]
    }
   ],
   "source": [
    "arr = [10, 45, 23, 67, 34, 89, 2]\n",
    "largest = max(arr)\n",
    "print(f\"Array: {arr}\")\n",
    "print(f\"Largest element in the array is {largest}\")"
   ]
  },
  {
   "cell_type": "code",
   "execution_count": 3,
   "id": "180dacae-4119-4acb-9c37-588ab835611b",
   "metadata": {},
   "outputs": [
    {
     "name": "stdout",
     "output_type": "stream",
     "text": [
      "Original array: [1, 2, 3, 4, 5, 6, 7]\n",
      "Array after rotating 3 times to the left: [4, 5, 6, 7, 1, 2, 3]\n"
     ]
    }
   ],
   "source": [
    "arr = [1, 2, 3, 4, 5, 6, 7]\n",
    "d = 3  # Number of rotations\n",
    "rotated_arr = arr[d:] + arr[:d]\n",
    "print(f\"Original array: {arr}\")\n",
    "print(f\"Array after rotating {d} times to the left: {rotated_arr}\")"
   ]
  },
  {
   "cell_type": "code",
   "execution_count": 4,
   "id": "2dcd881d-a09e-4fb7-942c-b45f14bb6490",
   "metadata": {},
   "outputs": [
    {
     "name": "stdout",
     "output_type": "stream",
     "text": [
      "Original array: [10, 20, 30, 40, 50, 60]\n",
      "Array after splitting at index 2 and adding first part to the end: [30, 40, 50, 60, 10, 20]\n"
     ]
    }
   ],
   "source": [
    "arr = [10, 20, 30, 40, 50, 60]\n",
    "split_index = 2\n",
    "result_arr = arr[split_index:] + arr[:split_index]\n",
    "print(f\"Original array: {arr}\")\n",
    "print(f\"Array after splitting at index {split_index} and adding first part to the end: {result_arr}\")"
   ]
  },
  {
   "cell_type": "code",
   "execution_count": 5,
   "id": "37e4dc90-c01c-4b4c-b065-6deb8c2b95c5",
   "metadata": {},
   "outputs": [
    {
     "name": "stdout",
     "output_type": "stream",
     "text": [
      "Array: [1, 2, 2, 3, 4, 5]\n",
      "Is the array monotonic? True\n"
     ]
    }
   ],
   "source": [
    "arr = [1, 2, 2, 3, 4, 5]\n",
    "is_increasing = all(arr[i] <= arr[i+1] for i in range(len(arr)-1))\n",
    "is_decreasing = all(arr[i] >= arr[i+1] for i in range(len(arr)-1))\n",
    "result = is_increasing or is_decreasing\n",
    "print(f\"Array: {arr}\")\n",
    "print(f\"Is the array monotonic? {result}\")\n"
   ]
  },
  {
   "cell_type": "code",
   "execution_count": null,
   "id": "2cc131be-f8e4-499c-a3ed-94888fdb3b59",
   "metadata": {},
   "outputs": [],
   "source": []
  }
 ],
 "metadata": {
  "kernelspec": {
   "display_name": "Python [conda env:base] *",
   "language": "python",
   "name": "conda-base-py"
  },
  "language_info": {
   "codemirror_mode": {
    "name": "ipython",
    "version": 3
   },
   "file_extension": ".py",
   "mimetype": "text/x-python",
   "name": "python",
   "nbconvert_exporter": "python",
   "pygments_lexer": "ipython3",
   "version": "3.13.5"
  }
 },
 "nbformat": 4,
 "nbformat_minor": 5
}
