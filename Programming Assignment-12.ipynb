{
 "cells": [
  {
   "cell_type": "code",
   "execution_count": 1,
   "id": "74d547b7-e347-437b-84c6-cd153f8bbf65",
   "metadata": {},
   "outputs": [
    {
     "name": "stdout",
     "output_type": "stream",
     "text": [
      "Unique values from dictionary values: {1, 2, 3, 4, 5, 6}\n"
     ]
    }
   ],
   "source": [
    "d = {'a': [1, 2, 3], 'b': [2, 3, 4], 'c': [4, 5, 6]}\n",
    "unique_values = set()\n",
    "for values in d.values():\n",
    "    unique_values.update(values)\n",
    "\n",
    "print(\"Unique values from dictionary values:\", unique_values)"
   ]
  },
  {
   "cell_type": "code",
   "execution_count": 2,
   "id": "267f31bd-0470-4a6f-9c9b-6a217aaf195e",
   "metadata": {},
   "outputs": [
    {
     "name": "stdout",
     "output_type": "stream",
     "text": [
      "Sum of all items: 600\n"
     ]
    }
   ],
   "source": [
    "d = {'a': 100, 'b': 200, 'c': 300}\n",
    "total_sum = sum(d.values())\n",
    "print(\"Sum of all items:\", total_sum)"
   ]
  },
  {
   "cell_type": "code",
   "execution_count": 3,
   "id": "c1d392d4-8dce-464b-b8cb-925388ca6833",
   "metadata": {},
   "outputs": [
    {
     "name": "stdout",
     "output_type": "stream",
     "text": [
      "Merged dictionary: {'a': 1, 'b': 2, 'c': 3, 'd': 4}\n"
     ]
    }
   ],
   "source": [
    "d1 = {'a': 1, 'b': 2}\n",
    "d2 = {'c': 3, 'd': 4}\n",
    "merged = d1.copy()\n",
    "merged.update(d2)\n",
    "print(\"Merged dictionary:\", merged)"
   ]
  },
  {
   "cell_type": "code",
   "execution_count": 4,
   "id": "86284563-eb9f-4441-8e78-31951f9f7307",
   "metadata": {},
   "outputs": [
    {
     "name": "stdout",
     "output_type": "stream",
     "text": [
      "Flat dictionary: {'a': 1, 'b': 2, 'c': 3}\n"
     ]
    }
   ],
   "source": [
    "keys = ['a', 'b', 'c']\n",
    "values = [1, 2, 3]\n",
    "\n",
    "flat_dict = dict(zip(keys, values))\n",
    "print(\"Flat dictionary:\", flat_dict)"
   ]
  },
  {
   "cell_type": "code",
   "execution_count": 5,
   "id": "b67a8097-5ce6-438e-8e4c-c295e41db6df",
   "metadata": {},
   "outputs": [
    {
     "name": "stdout",
     "output_type": "stream",
     "text": [
      "Original OrderedDict: OrderedDict({'a': 1, 'b': 2, 'c': 3})\n",
      "After insertion at beginning: OrderedDict({'z': 26, 'a': 1, 'b': 2, 'c': 3})\n"
     ]
    }
   ],
   "source": [
    "from collections import OrderedDict\n",
    "\n",
    "od = OrderedDict([('a', 1), ('b', 2), ('c', 3)])\n",
    "print(\"Original OrderedDict:\", od)\n",
    "\n",
    "# Insert at beginning\n",
    "od.update({'z': 26})    # add new item at the end\n",
    "od.move_to_end('z', last=False)  # move to beginning\n",
    "\n",
    "print(\"After insertion at beginning:\", od)"
   ]
  },
  {
   "cell_type": "code",
   "execution_count": 6,
   "id": "f4b6bae6-ad55-46b6-83ac-53023e316fb1",
   "metadata": {},
   "outputs": [
    {
     "name": "stdout",
     "output_type": "stream",
     "text": [
      "'egr' appear in order in 'engineers rock': True\n"
     ]
    }
   ],
   "source": [
    "from collections import OrderedDict\n",
    "\n",
    "def check_order(string, pattern):\n",
    "    char_order = OrderedDict.fromkeys(string)\n",
    "    pattern_chars = list(pattern)\n",
    "    index = 0\n",
    "    for ch in char_order:\n",
    "        if index < len(pattern_chars) and ch == pattern_chars[index]:\n",
    "            index += 1\n",
    "    return index == len(pattern_chars)\n",
    "\n",
    "string = \"engineers rock\"\n",
    "pattern = \"egr\"\n",
    "print(f\"'{pattern}' appear in order in '{string}': {check_order(string, pattern)}\")"
   ]
  },
  {
   "cell_type": "code",
   "execution_count": 7,
   "id": "cce2cf94-1013-452e-80a7-20fee2496457",
   "metadata": {},
   "outputs": [
    {
     "name": "stdout",
     "output_type": "stream",
     "text": [
      "Sorted by key: {'a': 1, 'b': 3, 'c': 2}\n"
     ]
    }
   ],
   "source": [
    "d = {'b': 3, 'a': 1, 'c': 2}\n",
    "sorted_by_key = dict(sorted(d.items()))\n",
    "print(\"Sorted by key:\", sorted_by_key)"
   ]
  },
  {
   "cell_type": "code",
   "execution_count": 8,
   "id": "8299c766-708b-4abf-903c-e4684a712bd7",
   "metadata": {},
   "outputs": [
    {
     "name": "stdout",
     "output_type": "stream",
     "text": [
      "Sorted by value: {'a': 1, 'c': 2, 'b': 3}\n"
     ]
    }
   ],
   "source": [
    "sorted_by_value = dict(sorted(d.items(), key=lambda item: item[1]))\n",
    "print(\"Sorted by value:\", sorted_by_value)"
   ]
  },
  {
   "cell_type": "code",
   "execution_count": null,
   "id": "1df2ce38-363b-48d1-900b-5e35417c18f2",
   "metadata": {},
   "outputs": [],
   "source": []
  }
 ],
 "metadata": {
  "kernelspec": {
   "display_name": "Python [conda env:base] *",
   "language": "python",
   "name": "conda-base-py"
  },
  "language_info": {
   "codemirror_mode": {
    "name": "ipython",
    "version": 3
   },
   "file_extension": ".py",
   "mimetype": "text/x-python",
   "name": "python",
   "nbconvert_exporter": "python",
   "pygments_lexer": "ipython3",
   "version": "3.13.5"
  }
 },
 "nbformat": 4,
 "nbformat_minor": 5
}
