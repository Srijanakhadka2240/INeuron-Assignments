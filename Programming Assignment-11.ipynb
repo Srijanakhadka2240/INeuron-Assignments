{
 "cells": [
  {
   "cell_type": "code",
   "execution_count": 1,
   "id": "7d6e6b29-9ec1-42d7-9ec3-c6adb8de225f",
   "metadata": {},
   "outputs": [
    {
     "name": "stdout",
     "output_type": "stream",
     "text": [
      "['Programming', 'Python', 'really']\n"
     ]
    }
   ],
   "source": [
    "def words_greater_than_k(s, k):\n",
    "    words = s.split()\n",
    "    result = [word for word in words if len(word) > k]\n",
    "    return result\n",
    "\n",
    "# Example\n",
    "sentence = \"Programming in Python is really fun and easy\"\n",
    "k = 4\n",
    "print(words_greater_than_k(sentence, k))"
   ]
  },
  {
   "cell_type": "code",
   "execution_count": 2,
   "id": "e20c2468-c49b-41c7-bd70-018c0a07f8ef",
   "metadata": {},
   "outputs": [
    {
     "name": "stdout",
     "output_type": "stream",
     "text": [
      "Pyton\n"
     ]
    }
   ],
   "source": [
    "def remove_ith_char(s, i):\n",
    "    return s[:i] + s[i+1:]\n",
    "\n",
    "# Example\n",
    "string = \"Python\"\n",
    "index = 3\n",
    "print(remove_ith_char(string, index))"
   ]
  },
  {
   "cell_type": "code",
   "execution_count": 3,
   "id": "a10eb0d4-26d8-4668-8080-9896e232cdc8",
   "metadata": {},
   "outputs": [
    {
     "name": "stdout",
     "output_type": "stream",
     "text": [
      "Python-programming-is-fun\n"
     ]
    }
   ],
   "source": [
    "def split_and_join(s):\n",
    "    words = s.split()          # split by spaces\n",
    "    joined = \"-\".join(words)  # join with hyphen\n",
    "    return joined\n",
    "\n",
    "# Example\n",
    "string = \"Python programming is fun\"\n",
    "print(split_and_join(string))"
   ]
  },
  {
   "cell_type": "code",
   "execution_count": 4,
   "id": "0cfe6f1c-9782-4434-8f44-19229d29f2c9",
   "metadata": {},
   "outputs": [
    {
     "name": "stdout",
     "output_type": "stream",
     "text": [
      "1010101 is binary: True\n",
      "10201 is binary: False\n"
     ]
    }
   ],
   "source": [
    "def is_binary_string(s):\n",
    "    return all(ch in '01' for ch in s)\n",
    "\n",
    "# Example\n",
    "string = \"1010101\"\n",
    "print(f\"{string} is binary: {is_binary_string(string)}\")\n",
    "\n",
    "string2 = \"10201\"\n",
    "print(f\"{string2} is binary: {is_binary_string(string2)}\")"
   ]
  },
  {
   "cell_type": "code",
   "execution_count": 5,
   "id": "22489444-a29b-4ad6-8e47-37970485a921",
   "metadata": {},
   "outputs": [
    {
     "name": "stdout",
     "output_type": "stream",
     "text": [
      "['grape', 'mango']\n"
     ]
    }
   ],
   "source": [
    "def uncommon_words(str1, str2):\n",
    "    set1 = set(str1.split())\n",
    "    set2 = set(str2.split())\n",
    "    uncommon = set1.symmetric_difference(set2)  # words in one but not both\n",
    "    return list(uncommon)\n",
    "\n",
    "# Example\n",
    "s1 = \"apple banana mango\"\n",
    "s2 = \"banana grape apple\"\n",
    "print(uncommon_words(s1, s2))"
   ]
  },
  {
   "cell_type": "code",
   "execution_count": 8,
   "id": "f236ec2a-cfad-495c-8bfa-4bdcb3888f56",
   "metadata": {},
   "outputs": [
    {
     "name": "stdout",
     "output_type": "stream",
     "text": [
      "['r', 'g', 'm']\n"
     ]
    }
   ],
   "source": [
    "def find_duplicates(s):\n",
    "    duplicates = set()\n",
    "    seen = set()\n",
    "    for ch in s:\n",
    "        if ch in seen:\n",
    "            duplicates.add(ch)\n",
    "        else:\n",
    "            seen.add(ch)\n",
    "    return list(duplicates)\n",
    "\n",
    "# Example\n",
    "string = \"programming\"\n",
    "print(find_duplicates(string))"
   ]
  },
  {
   "cell_type": "code",
   "execution_count": 7,
   "id": "d0ecf874-dc7a-44e3-88aa-8f1cecfb82d0",
   "metadata": {},
   "outputs": [
    {
     "name": "stdout",
     "output_type": "stream",
     "text": [
      "Hello@World has special character: True\n",
      "HelloWorld has special character: False\n"
     ]
    }
   ],
   "source": [
    "import string\n",
    "\n",
    "def has_special_char(s):\n",
    "    special_chars = set(string.punctuation)\n",
    "    return any(ch in special_chars for ch in s)\n",
    "\n",
    "# Example\n",
    "string1 = \"Hello@World\"\n",
    "string2 = \"HelloWorld\"\n",
    "\n",
    "print(f\"{string1} has special character: {has_special_char(string1)}\")\n",
    "print(f\"{string2} has special character: {has_special_char(string2)}\")"
   ]
  },
  {
   "cell_type": "code",
   "execution_count": null,
   "id": "7a634894-7094-42fa-8602-7e749fc508e0",
   "metadata": {},
   "outputs": [],
   "source": []
  }
 ],
 "metadata": {
  "kernelspec": {
   "display_name": "Python [conda env:base] *",
   "language": "python",
   "name": "conda-base-py"
  },
  "language_info": {
   "codemirror_mode": {
    "name": "ipython",
    "version": 3
   },
   "file_extension": ".py",
   "mimetype": "text/x-python",
   "name": "python",
   "nbconvert_exporter": "python",
   "pygments_lexer": "ipython3",
   "version": "3.13.5"
  }
 },
 "nbformat": 4,
 "nbformat_minor": 5
}
