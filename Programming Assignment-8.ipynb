{
 "cells": [
  {
   "cell_type": "code",
   "execution_count": 1,
   "id": "9aa8bece-26be-419f-88ae-923d0f1763ca",
   "metadata": {},
   "outputs": [
    {
     "name": "stdout",
     "output_type": "stream",
     "text": [
      "Matrix A:\n",
      "[1, 2, 3]\n",
      "[4, 5, 6]\n",
      "[7, 8, 9]\n",
      "\n",
      "Matrix B:\n",
      "[9, 8, 7]\n",
      "[6, 5, 4]\n",
      "[3, 2, 1]\n",
      "\n",
      "Sum of A and B:\n",
      "[10, 10, 10]\n",
      "[10, 10, 10]\n",
      "[10, 10, 10]\n"
     ]
    }
   ],
   "source": [
    "# Example matrices\n",
    "A = [\n",
    "    [1, 2, 3],\n",
    "    [4, 5, 6],\n",
    "    [7, 8, 9]\n",
    "]\n",
    "\n",
    "B = [\n",
    "    [9, 8, 7],\n",
    "    [6, 5, 4],\n",
    "    [3, 2, 1]\n",
    "]\n",
    "\n",
    "# Adding matrices\n",
    "result = []\n",
    "for i in range(len(A)):\n",
    "    row = []\n",
    "    for j in range(len(A[0])):\n",
    "        row.append(A[i][j] + B[i][j])\n",
    "    result.append(row)\n",
    "\n",
    "print(\"Matrix A:\")\n",
    "for row in A:\n",
    "    print(row)\n",
    "print(\"\\nMatrix B:\")\n",
    "for row in B:\n",
    "    print(row)\n",
    "print(\"\\nSum of A and B:\")\n",
    "for row in result:\n",
    "    print(row)"
   ]
  },
  {
   "cell_type": "code",
   "execution_count": 2,
   "id": "332558ee-83d9-4ffe-956f-19f4cf88edf5",
   "metadata": {},
   "outputs": [
    {
     "name": "stdout",
     "output_type": "stream",
     "text": [
      "Matrix A:\n",
      "[1, 2, 3]\n",
      "[4, 5, 6]\n",
      "\n",
      "Matrix B:\n",
      "[7, 8]\n",
      "[9, 10]\n",
      "[11, 12]\n",
      "\n",
      "Product of A and B:\n",
      "[58, 64]\n",
      "[139, 154]\n"
     ]
    }
   ],
   "source": [
    "# Example matrices\n",
    "A = [\n",
    "    [1, 2, 3],\n",
    "    [4, 5, 6]\n",
    "]\n",
    "\n",
    "B = [\n",
    "    [7, 8],\n",
    "    [9, 10],\n",
    "    [11, 12]\n",
    "]\n",
    "\n",
    "# Multiplying matrices\n",
    "result = []\n",
    "for i in range(len(A)):          # rows of A\n",
    "    row = []\n",
    "    for j in range(len(B[0])):  # columns of B\n",
    "        sum_prod = 0\n",
    "        for k in range(len(B)): # columns of A / rows of B\n",
    "            sum_prod += A[i][k] * B[k][j]\n",
    "        row.append(sum_prod)\n",
    "    result.append(row)\n",
    "\n",
    "print(\"Matrix A:\")\n",
    "for row in A:\n",
    "    print(row)\n",
    "print(\"\\nMatrix B:\")\n",
    "for row in B:\n",
    "    print(row)\n",
    "print(\"\\nProduct of A and B:\")\n",
    "for row in result:\n",
    "    print(row)"
   ]
  },
  {
   "cell_type": "code",
   "execution_count": 3,
   "id": "1f196346-7600-4b1f-8c63-abb133df25f5",
   "metadata": {},
   "outputs": [
    {
     "name": "stdout",
     "output_type": "stream",
     "text": [
      "Original Matrix:\n",
      "[1, 2, 3]\n",
      "[4, 5, 6]\n",
      "\n",
      "Transposed Matrix:\n",
      "[1, 4]\n",
      "[2, 5]\n",
      "[3, 6]\n"
     ]
    }
   ],
   "source": [
    "# Example matrix\n",
    "A = [\n",
    "    [1, 2, 3],\n",
    "    [4, 5, 6]\n",
    "]\n",
    "\n",
    "# Transpose matrix\n",
    "transpose = []\n",
    "for i in range(len(A[0])):   # columns of A\n",
    "    row = []\n",
    "    for j in range(len(A)):  # rows of A\n",
    "        row.append(A[j][i])\n",
    "    transpose.append(row)\n",
    "\n",
    "print(\"Original Matrix:\")\n",
    "for row in A:\n",
    "    print(row)\n",
    "print(\"\\nTransposed Matrix:\")\n",
    "for row in transpose:\n",
    "    print(row)"
   ]
  },
  {
   "cell_type": "code",
   "execution_count": 4,
   "id": "946fd73f-934a-42d8-a7d1-67b7749a1c5f",
   "metadata": {},
   "outputs": [
    {
     "name": "stdout",
     "output_type": "stream",
     "text": [
      "Original sentence: Python programming is fun and interesting\n",
      "Words sorted alphabetically: Python and fun interesting is programming\n"
     ]
    }
   ],
   "source": [
    "sentence = \"Python programming is fun and interesting\"\n",
    "words = sentence.split()\n",
    "words.sort()\n",
    "\n",
    "print(f\"Original sentence: {sentence}\")\n",
    "print(f\"Words sorted alphabetically: {' '.join(words)}\")"
   ]
  },
  {
   "cell_type": "code",
   "execution_count": 5,
   "id": "a0c60451-45e6-4129-b0f4-9a36a92505b1",
   "metadata": {},
   "outputs": [
    {
     "name": "stdout",
     "output_type": "stream",
     "text": [
      "Original text: Hello, world! Welcome to Python programming.\n",
      "Text without punctuation: Hello world Welcome to Python programming\n"
     ]
    }
   ],
   "source": [
    "import string\n",
    "\n",
    "text = \"Hello, world! Welcome to Python programming.\"\n",
    "\n",
    "# Remove punctuation\n",
    "no_punct = \"\".join(char for char in text if char not in string.punctuation)\n",
    "\n",
    "print(f\"Original text: {text}\")\n",
    "print(f\"Text without punctuation: {no_punct}\")"
   ]
  },
  {
   "cell_type": "code",
   "execution_count": null,
   "id": "d2e525ed-1ac8-4528-920f-12e9500d8a6d",
   "metadata": {},
   "outputs": [],
   "source": []
  }
 ],
 "metadata": {
  "kernelspec": {
   "display_name": "Python [conda env:base] *",
   "language": "python",
   "name": "conda-base-py"
  },
  "language_info": {
   "codemirror_mode": {
    "name": "ipython",
    "version": 3
   },
   "file_extension": ".py",
   "mimetype": "text/x-python",
   "name": "python",
   "nbconvert_exporter": "python",
   "pygments_lexer": "ipython3",
   "version": "3.13.5"
  }
 },
 "nbformat": 4,
 "nbformat_minor": 5
}
