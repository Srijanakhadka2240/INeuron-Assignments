{
 "cells": [
  {
   "cell_type": "code",
   "execution_count": 1,
   "id": "9e6353ab-6724-4116-af7a-2ca0c9a2a79c",
   "metadata": {},
   "outputs": [
    {
     "name": "stdout",
     "output_type": "stream",
     "text": [
      "175 is Disarium: True\n"
     ]
    }
   ],
   "source": [
    "def is_disarium(num):\n",
    "    s = str(num)\n",
    "    total = 0\n",
    "    for i, digit in enumerate(s, start=1):\n",
    "        total += int(digit) ** i\n",
    "    return total == num\n",
    "\n",
    "number = 175\n",
    "print(f\"{number} is Disarium: {is_disarium(number)}\")"
   ]
  },
  {
   "cell_type": "code",
   "execution_count": 2,
   "id": "27cc5289-b7e6-48b1-9020-1b931036bfe6",
   "metadata": {},
   "outputs": [
    {
     "name": "stdout",
     "output_type": "stream",
     "text": [
      "1 2 3 4 5 6 7 8 9 89 \n"
     ]
    }
   ],
   "source": [
    "for num in range(1, 101):\n",
    "    s = str(num)\n",
    "    total = sum(int(d)**(i+1) for i, d in enumerate(s))\n",
    "    if total == num:\n",
    "        print(num, end=\" \")\n",
    "print()"
   ]
  },
  {
   "cell_type": "code",
   "execution_count": 3,
   "id": "62fa3c5c-a423-42e0-bdc5-b6d0a9f7ddfc",
   "metadata": {},
   "outputs": [
    {
     "name": "stdout",
     "output_type": "stream",
     "text": [
      "19 is Happy: True\n"
     ]
    }
   ],
   "source": [
    "def is_happy(num):\n",
    "    seen = set()\n",
    "    while num != 1 and num not in seen:\n",
    "        seen.add(num)\n",
    "        num = sum(int(d)**2 for d in str(num))\n",
    "    return num == 1\n",
    "\n",
    "number = 19\n",
    "print(f\"{number} is Happy: {is_happy(number)}\")"
   ]
  },
  {
   "cell_type": "code",
   "execution_count": 4,
   "id": "9968ed01-9a86-4536-b9c4-51ff6d30dcd4",
   "metadata": {},
   "outputs": [
    {
     "name": "stdout",
     "output_type": "stream",
     "text": [
      "1 7 10 13 19 23 28 31 32 44 49 68 70 79 82 86 91 94 97 100 \n"
     ]
    }
   ],
   "source": [
    "for num in range(1, 101):\n",
    "    seen = set()\n",
    "    n = num\n",
    "    while n != 1 and n not in seen:\n",
    "        seen.add(n)\n",
    "        n = sum(int(d)**2 for d in str(n))\n",
    "    if n == 1:\n",
    "        print(num, end=\" \")\n",
    "print()"
   ]
  },
  {
   "cell_type": "code",
   "execution_count": 5,
   "id": "edc32040-935a-47e0-baef-6f58f85da196",
   "metadata": {},
   "outputs": [
    {
     "name": "stdout",
     "output_type": "stream",
     "text": [
      "18 is Harshad: True\n"
     ]
    }
   ],
   "source": [
    "num = 18\n",
    "total = sum(int(d) for d in str(num))\n",
    "print(f\"{num} is Harshad: {num % total == 0}\")\n"
   ]
  },
  {
   "cell_type": "code",
   "execution_count": 6,
   "id": "7b15615d-1d49-49a9-b327-97ee684563dd",
   "metadata": {},
   "outputs": [
    {
     "name": "stdout",
     "output_type": "stream",
     "text": [
      "2 6 12 20 30 42 56 72 90 \n"
     ]
    }
   ],
   "source": [
    "for num in range(1, 101):\n",
    "    i = 0\n",
    "    while i * (i + 1) < num:\n",
    "        i += 1\n",
    "    if i * (i + 1) == num:\n",
    "        print(num, end=\" \")\n",
    "print()"
   ]
  },
  {
   "cell_type": "code",
   "execution_count": null,
   "id": "0198a68f-4c85-4963-a4e2-c36ceb09f87e",
   "metadata": {},
   "outputs": [],
   "source": []
  }
 ],
 "metadata": {
  "kernelspec": {
   "display_name": "Python [conda env:base] *",
   "language": "python",
   "name": "conda-base-py"
  },
  "language_info": {
   "codemirror_mode": {
    "name": "ipython",
    "version": 3
   },
   "file_extension": ".py",
   "mimetype": "text/x-python",
   "name": "python",
   "nbconvert_exporter": "python",
   "pygments_lexer": "ipython3",
   "version": "3.13.5"
  }
 },
 "nbformat": 4,
 "nbformat_minor": 5
}
