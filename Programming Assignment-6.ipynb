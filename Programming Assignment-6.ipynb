{
 "cells": [
  {
   "cell_type": "code",
   "execution_count": 1,
   "id": "32c2fd13-fc90-45e5-9ded-d98dce45c23c",
   "metadata": {},
   "outputs": [
    {
     "name": "stdout",
     "output_type": "stream",
     "text": [
      "Fibonacci sequence with 10 terms:\n",
      "[0, 1, 1, 2, 3, 5, 8, 13, 21, 34]\n"
     ]
    }
   ],
   "source": [
    "def fibonacci(n):\n",
    "    if n <= 0:\n",
    "        return []\n",
    "    elif n == 1:\n",
    "        return [0]\n",
    "    elif n == 2:\n",
    "        return [0, 1]\n",
    "    else:\n",
    "        seq = fibonacci(n-1)\n",
    "        seq.append(seq[-1] + seq[-2])\n",
    "        return seq\n",
    "\n",
    "# Input value\n",
    "n_terms = 10\n",
    "print(f\"Fibonacci sequence with {n_terms} terms:\")\n",
    "print(fibonacci(n_terms))"
   ]
  },
  {
   "cell_type": "code",
   "execution_count": 2,
   "id": "6c482c8f-d725-4431-888c-110da683e60c",
   "metadata": {},
   "outputs": [
    {
     "name": "stdout",
     "output_type": "stream",
     "text": [
      "Factorial of 5 is 120\n"
     ]
    }
   ],
   "source": [
    "def factorial(n):\n",
    "    if n == 0 or n == 1:\n",
    "        return 1\n",
    "    else:\n",
    "        return n * factorial(n - 1)\n",
    "\n",
    "# Input value\n",
    "num = 5\n",
    "print(f\"Factorial of {num} is {factorial(num)}\")"
   ]
  },
  {
   "cell_type": "code",
   "execution_count": 3,
   "id": "44292089-7d35-4c93-bfcb-a698f71888cd",
   "metadata": {},
   "outputs": [
    {
     "name": "stdout",
     "output_type": "stream",
     "text": [
      "Body Mass Index (BMI) for weight 70kg and height 1.75m is 22.86\n"
     ]
    }
   ],
   "source": [
    "# Input values\n",
    "weight_kg = 70  # weight in kilograms\n",
    "height_m = 1.75  # height in meters\n",
    "\n",
    "bmi = weight_kg / (height_m ** 2)\n",
    "print(f\"Body Mass Index (BMI) for weight {weight_kg}kg and height {height_m}m is {bmi:.2f}\")"
   ]
  },
  {
   "cell_type": "code",
   "execution_count": 4,
   "id": "1947bc22-231b-424c-afbd-e43b819caa5d",
   "metadata": {},
   "outputs": [
    {
     "name": "stdout",
     "output_type": "stream",
     "text": [
      "Natural logarithm (ln) of 10 is 2.3026\n"
     ]
    }
   ],
   "source": [
    "import math\n",
    "\n",
    "# Input value\n",
    "number = 10\n",
    "\n",
    "if number > 0:\n",
    "    ln_value = math.log(number)\n",
    "    print(f\"Natural logarithm (ln) of {number} is {ln_value:.4f}\")\n",
    "else:\n",
    "    print(\"Error: Natural logarithm is defined only for positive numbers.\")"
   ]
  },
  {
   "cell_type": "code",
   "execution_count": 5,
   "id": "f6e05f71-1ee3-4c92-a76c-0d9f2c85e16f",
   "metadata": {},
   "outputs": [
    {
     "name": "stdout",
     "output_type": "stream",
     "text": [
      "Cube sum of first 5 natural numbers is 225\n"
     ]
    }
   ],
   "source": [
    "# Input value\n",
    "n = 5\n",
    "\n",
    "# Using formula: (n(n+1)/2)^2\n",
    "cube_sum = (n * (n + 1) // 2) ** 2\n",
    "print(f\"Cube sum of first {n} natural numbers is {cube_sum}\")"
   ]
  },
  {
   "cell_type": "code",
   "execution_count": null,
   "id": "4532cd96-5dce-4639-a12e-7a9e990b32ff",
   "metadata": {},
   "outputs": [],
   "source": []
  }
 ],
 "metadata": {
  "kernelspec": {
   "display_name": "Python [conda env:base] *",
   "language": "python",
   "name": "conda-base-py"
  },
  "language_info": {
   "codemirror_mode": {
    "name": "ipython",
    "version": 3
   },
   "file_extension": ".py",
   "mimetype": "text/x-python",
   "name": "python",
   "nbconvert_exporter": "python",
   "pygments_lexer": "ipython3",
   "version": "3.13.5"
  }
 },
 "nbformat": 4,
 "nbformat_minor": 5
}
