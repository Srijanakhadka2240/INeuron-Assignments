{
 "cells": [
  {
   "cell_type": "code",
   "execution_count": 1,
   "id": "edfc2979-d6b4-4ab2-8594-cd4d30c151b6",
   "metadata": {},
   "outputs": [
    {
     "name": "stdin",
     "output_type": "stream",
     "text": [
      "Enter first number:  5\n",
      "Enter second number:  -5\n"
     ]
    },
    {
     "name": "stdout",
     "output_type": "stream",
     "text": [
      "LCM of 5 and -5 is 5\n"
     ]
    }
   ],
   "source": [
    "num1 = int(input(\"Enter first number: \"))\n",
    "num2 = int(input(\"Enter second number: \"))\n",
    "\n",
    "# Function to find LCM\n",
    "def find_lcm(x, y):\n",
    "    greater = max(x, y)\n",
    "    while True:\n",
    "        if greater % x == 0 and greater % y == 0:\n",
    "            lcm = greater\n",
    "            break\n",
    "        greater += 1\n",
    "    return lcm\n",
    "\n",
    "print(f\"LCM of {num1} and {num2} is {find_lcm(num1, num2)}\")"
   ]
  },
  {
   "cell_type": "code",
   "execution_count": 2,
   "id": "57e015eb-d2ee-4b90-baab-37a3d364ee4c",
   "metadata": {},
   "outputs": [
    {
     "name": "stdin",
     "output_type": "stream",
     "text": [
      "Enter first number:  9\n",
      "Enter second number:  4\n"
     ]
    },
    {
     "name": "stdout",
     "output_type": "stream",
     "text": [
      "HCF of 9 and 4 is 1\n"
     ]
    }
   ],
   "source": [
    "num1 = int(input(\"Enter first number: \"))\n",
    "num2 = int(input(\"Enter second number: \"))\n",
    "\n",
    "# Function to find HCF using Euclidean algorithm\n",
    "def find_hcf(x, y):\n",
    "    while y:\n",
    "        x, y = y, x % y\n",
    "    return x\n",
    "\n",
    "print(f\"HCF of {num1} and {num2} is {find_hcf(num1, num2)}\")"
   ]
  },
  {
   "cell_type": "code",
   "execution_count": 3,
   "id": "f2657ad9-def7-4b22-8449-aa9eba916f37",
   "metadata": {},
   "outputs": [
    {
     "name": "stdin",
     "output_type": "stream",
     "text": [
      "Enter a decimal number:  6\n"
     ]
    },
    {
     "name": "stdout",
     "output_type": "stream",
     "text": [
      "Binary of 6 is 110\n",
      "Octal of 6 is 6\n",
      "Hexadecimal of 6 is 6\n"
     ]
    }
   ],
   "source": [
    "decimal = int(input(\"Enter a decimal number: \"))\n",
    "\n",
    "print(f\"Binary of {decimal} is {bin(decimal)[2:]}\")\n",
    "print(f\"Octal of {decimal} is {oct(decimal)[2:]}\")\n",
    "print(f\"Hexadecimal of {decimal} is {hex(decimal)[2:]}\")\n"
   ]
  },
  {
   "cell_type": "code",
   "execution_count": 4,
   "id": "826f2a13-adcd-4ca5-a6bc-5106e74fe636",
   "metadata": {},
   "outputs": [
    {
     "name": "stdin",
     "output_type": "stream",
     "text": [
      "Enter a character:  @\n"
     ]
    },
    {
     "name": "stdout",
     "output_type": "stream",
     "text": [
      "ASCII value of '@' is 64\n"
     ]
    }
   ],
   "source": [
    "char = input(\"Enter a character: \")\n",
    "ascii_value = ord(char)\n",
    "print(f\"ASCII value of '{char}' is {ascii_value}\")"
   ]
  },
  {
   "cell_type": "code",
   "execution_count": 5,
   "id": "85eba735-40b1-4d94-8be6-1b41736dd06c",
   "metadata": {},
   "outputs": [
    {
     "name": "stdin",
     "output_type": "stream",
     "text": [
      "Enter first number:  9\n",
      "Enter second number:  -3\n"
     ]
    },
    {
     "name": "stdout",
     "output_type": "stream",
     "text": [
      "Select operation:\n",
      "1. Addition (+)\n",
      "2. Subtraction (-)\n",
      "3. Multiplication (*)\n",
      "4. Division (/)\n"
     ]
    },
    {
     "name": "stdin",
     "output_type": "stream",
     "text": [
      "Enter choice (1/2/3/4):  4\n"
     ]
    },
    {
     "name": "stdout",
     "output_type": "stream",
     "text": [
      "Result: 9.0 / -3.0 = -3.0\n"
     ]
    }
   ],
   "source": [
    "num1 = float(input(\"Enter first number: \"))\n",
    "num2 = float(input(\"Enter second number: \"))\n",
    "\n",
    "print(\"Select operation:\")\n",
    "print(\"1. Addition (+)\")\n",
    "print(\"2. Subtraction (-)\")\n",
    "print(\"3. Multiplication (*)\")\n",
    "print(\"4. Division (/)\")\n",
    "\n",
    "choice = input(\"Enter choice (1/2/3/4): \")\n",
    "\n",
    "if choice == '1':\n",
    "    print(f\"Result: {num1} + {num2} = {num1 + num2}\")\n",
    "elif choice == '2':\n",
    "    print(f\"Result: {num1} - {num2} = {num1 - num2}\")\n",
    "elif choice == '3':\n",
    "    print(f\"Result: {num1} * {num2} = {num1 * num2}\")\n",
    "elif choice == '4':\n",
    "    if num2 != 0:\n",
    "        print(f\"Result: {num1} / {num2} = {num1 / num2}\")\n",
    "    else:\n",
    "        print(\"Error: Division by zero is undefined.\")\n",
    "else:\n",
    "    print(\"Invalid input!\")\n",
    "    "
   ]
  },
  {
   "cell_type": "code",
   "execution_count": null,
   "id": "0510f4b0-68cc-4e34-8714-9c2629052106",
   "metadata": {},
   "outputs": [],
   "source": []
  }
 ],
 "metadata": {
  "kernelspec": {
   "display_name": "Python [conda env:base] *",
   "language": "python",
   "name": "conda-base-py"
  },
  "language_info": {
   "codemirror_mode": {
    "name": "ipython",
    "version": 3
   },
   "file_extension": ".py",
   "mimetype": "text/x-python",
   "name": "python",
   "nbconvert_exporter": "python",
   "pygments_lexer": "ipython3",
   "version": "3.13.5"
  }
 },
 "nbformat": 4,
 "nbformat_minor": 5
}
