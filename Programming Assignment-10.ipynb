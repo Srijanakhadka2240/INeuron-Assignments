{
 "cells": [
  {
   "cell_type": "code",
   "execution_count": 1,
   "id": "54fb1a24-3216-49c1-8dec-6b8cb1dbc0b4",
   "metadata": {},
   "outputs": [
    {
     "name": "stdout",
     "output_type": "stream",
     "text": [
      "Sum of elements: 15\n"
     ]
    }
   ],
   "source": [
    "lst = [1, 2, 3, 4, 5]\n",
    "total = sum(lst)\n",
    "print(\"Sum of elements:\", total)"
   ]
  },
  {
   "cell_type": "code",
   "execution_count": 2,
   "id": "0140dda8-d977-4181-992f-c2a125b52ccc",
   "metadata": {},
   "outputs": [
    {
     "name": "stdout",
     "output_type": "stream",
     "text": [
      "Product of elements: 120\n"
     ]
    }
   ],
   "source": [
    "lst = [1, 2, 3, 4, 5]\n",
    "product = 1\n",
    "for num in lst:\n",
    "    product *= num\n",
    "print(\"Product of elements:\", product)"
   ]
  },
  {
   "cell_type": "code",
   "execution_count": 3,
   "id": "d0edfd8e-7ba6-4158-9034-7b99a082bd87",
   "metadata": {},
   "outputs": [
    {
     "name": "stdout",
     "output_type": "stream",
     "text": [
      "Smallest number: 1\n"
     ]
    }
   ],
   "source": [
    "lst = [4, 2, 9, 1, 7]\n",
    "smallest = min(lst)\n",
    "print(\"Smallest number:\", smallest)"
   ]
  },
  {
   "cell_type": "code",
   "execution_count": 4,
   "id": "df3bf635-ca00-4884-b813-69c7ff398aa1",
   "metadata": {},
   "outputs": [
    {
     "name": "stdout",
     "output_type": "stream",
     "text": [
      "Largest number: 9\n"
     ]
    }
   ],
   "source": [
    "lst = [4, 2, 9, 1, 7]\n",
    "largest = max(lst)\n",
    "print(\"Largest number:\", largest)"
   ]
  },
  {
   "cell_type": "code",
   "execution_count": 5,
   "id": "763b1f2b-5ebc-417e-a639-ddf8b6a218d0",
   "metadata": {},
   "outputs": [
    {
     "name": "stdout",
     "output_type": "stream",
     "text": [
      "Second largest number: 7\n"
     ]
    }
   ],
   "source": [
    "lst = [4, 2, 9, 1, 7]\n",
    "unique_lst = list(set(lst))\n",
    "unique_lst.sort()\n",
    "if len(unique_lst) >= 2:\n",
    "    print(\"Second largest number:\", unique_lst[-2])\n",
    "else:\n",
    "    print(\"List does not have enough unique elements\")"
   ]
  },
  {
   "cell_type": "code",
   "execution_count": 6,
   "id": "3a3d5b8d-1538-4bb0-9412-306f4dab4a8b",
   "metadata": {},
   "outputs": [
    {
     "name": "stdout",
     "output_type": "stream",
     "text": [
      "3 largest elements: [9, 7, 4]\n"
     ]
    }
   ],
   "source": [
    "lst = [4, 2, 9, 1, 7]\n",
    "n = 3\n",
    "sorted_lst = sorted(lst, reverse=True)\n",
    "n_largest = sorted_lst[:n]\n",
    "print(f\"{n} largest elements:\", n_largest)"
   ]
  },
  {
   "cell_type": "code",
   "execution_count": 7,
   "id": "1cee7795-f727-4007-b45b-c953daa4cf99",
   "metadata": {},
   "outputs": [
    {
     "name": "stdout",
     "output_type": "stream",
     "text": [
      "Even numbers: [2, 4, 6]\n"
     ]
    }
   ],
   "source": [
    "lst = [1, 2, 3, 4, 5, 6]\n",
    "evens = [num for num in lst if num % 2 == 0]\n",
    "print(\"Even numbers:\", evens)\n"
   ]
  },
  {
   "cell_type": "code",
   "execution_count": 8,
   "id": "13456e23-9731-48c9-9f06-83f095d5d3b9",
   "metadata": {},
   "outputs": [
    {
     "name": "stdout",
     "output_type": "stream",
     "text": [
      "Odd numbers: [1, 3, 5]\n"
     ]
    }
   ],
   "source": [
    "lst = [1, 2, 3, 4, 5, 6]\n",
    "odds = [num for num in lst if num % 2 != 0]\n",
    "print(\"Odd numbers:\", odds)"
   ]
  },
  {
   "cell_type": "code",
   "execution_count": 9,
   "id": "1e3cd96b-bd67-4a26-aed5-3af185df7c5a",
   "metadata": {},
   "outputs": [
    {
     "name": "stdout",
     "output_type": "stream",
     "text": [
      "List after removing empty lists: [1, 2, 3, 4, 5]\n"
     ]
    }
   ],
   "source": [
    "lst = [1, [], 2, [], 3, 4, [], 5]\n",
    "filtered = [item for item in lst if item != []]\n",
    "print(\"List after removing empty lists:\", filtered)"
   ]
  },
  {
   "cell_type": "code",
   "execution_count": 10,
   "id": "a15eaf88-2f80-4264-948d-fbb170b91326",
   "metadata": {},
   "outputs": [
    {
     "name": "stdout",
     "output_type": "stream",
     "text": [
      "Original list: [1, 2, 3, 4, 5]\n",
      "Cloned list: [1, 2, 3, 4, 5]\n"
     ]
    }
   ],
   "source": [
    "lst = [1, 2, 3, 4, 5]\n",
    "cloned = lst.copy()\n",
    "print(\"Original list:\", lst)\n",
    "print(\"Cloned list:\", cloned)"
   ]
  },
  {
   "cell_type": "code",
   "execution_count": 11,
   "id": "baf1de82-d810-4382-8eed-b17dee42510d",
   "metadata": {},
   "outputs": [
    {
     "name": "stdout",
     "output_type": "stream",
     "text": [
      "Number of occurrences of 2: 3\n"
     ]
    }
   ],
   "source": [
    "lst = [1, 2, 2, 3, 4, 2, 5]\n",
    "element = 2\n",
    "count = lst.count(element)\n",
    "print(f\"Number of occurrences of {element}:\", count)"
   ]
  },
  {
   "cell_type": "code",
   "execution_count": null,
   "id": "8596d0c4-8d5e-4097-a600-227a217fb553",
   "metadata": {},
   "outputs": [],
   "source": []
  }
 ],
 "metadata": {
  "kernelspec": {
   "display_name": "Python [conda env:base] *",
   "language": "python",
   "name": "conda-base-py"
  },
  "language_info": {
   "codemirror_mode": {
    "name": "ipython",
    "version": 3
   },
   "file_extension": ".py",
   "mimetype": "text/x-python",
   "name": "python",
   "nbconvert_exporter": "python",
   "pygments_lexer": "ipython3",
   "version": "3.13.5"
  }
 },
 "nbformat": 4,
 "nbformat_minor": 5
}
