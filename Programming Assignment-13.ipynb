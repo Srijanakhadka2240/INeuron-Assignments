{
 "cells": [
  {
   "cell_type": "code",
   "execution_count": 1,
   "id": "dff68eae-4ec8-40c5-be0a-f99fbe078eaf",
   "metadata": {},
   "outputs": [
    {
     "name": "stdout",
     "output_type": "stream",
     "text": [
      "18,22,24\n"
     ]
    }
   ],
   "source": [
    "import math\n",
    "\n",
    "C = 50\n",
    "H = 30\n",
    "\n",
    "# Example input string\n",
    "input_str = \"100,150,180\"\n",
    "\n",
    "D_values = input_str.split(\",\")\n",
    "result = []\n",
    "\n",
    "for D in D_values:\n",
    "    D = int(D)\n",
    "    Q = round(math.sqrt((2 * C * D) / H))\n",
    "    result.append(str(Q))\n",
    "\n",
    "print(\",\".join(result))"
   ]
  },
  {
   "cell_type": "code",
   "execution_count": 2,
   "id": "921e21c9-6af8-4166-8582-9857fafcc6fd",
   "metadata": {},
   "outputs": [
    {
     "name": "stdout",
     "output_type": "stream",
     "text": [
      "[0, 0, 0, 0, 0]\n",
      "[0, 1, 2, 3, 4]\n",
      "[0, 2, 4, 6, 8]\n"
     ]
    }
   ],
   "source": [
    "X, Y = 3, 5  # example inputs\n",
    "\n",
    "array_2d = [[i * j for j in range(Y)] for i in range(X)]\n",
    "\n",
    "for row in array_2d:\n",
    "    print(row)"
   ]
  },
  {
   "cell_type": "code",
   "execution_count": 3,
   "id": "68c0c14a-b9de-47b5-ac75-b62b9173f1be",
   "metadata": {},
   "outputs": [
    {
     "name": "stdout",
     "output_type": "stream",
     "text": [
      "bag,hello,without,world\n"
     ]
    }
   ],
   "source": [
    "input_str = \"without,hello,bag,world\"\n",
    "words = input_str.split(\",\")\n",
    "words.sort()\n",
    "print(\",\".join(words))"
   ]
  },
  {
   "cell_type": "code",
   "execution_count": 4,
   "id": "12b705b9-e275-4daf-801d-9e5ff60ba714",
   "metadata": {},
   "outputs": [
    {
     "name": "stdout",
     "output_type": "stream",
     "text": [
      "again and hello makes perfect practice world\n"
     ]
    }
   ],
   "source": [
    "input_str = \"hello world and practice makes perfect and hello world again\"\n",
    "words = input_str.split()\n",
    "unique_words = sorted(set(words))\n",
    "print(\" \".join(unique_words))"
   ]
  },
  {
   "cell_type": "code",
   "execution_count": 5,
   "id": "566e5998-8aac-439c-b932-afd05b4c7496",
   "metadata": {},
   "outputs": [
    {
     "name": "stdout",
     "output_type": "stream",
     "text": [
      "LETTERS 10\n",
      "DIGITS 3\n"
     ]
    }
   ],
   "source": [
    "sentence = \"Hello World! 123\"\n",
    "\n",
    "letters = sum(c.isalpha() for c in sentence)\n",
    "digits = sum(c.isdigit() for c in sentence)\n",
    "\n",
    "print(\"LETTERS\", letters)\n",
    "print(\"DIGITS\", digits)"
   ]
  },
  {
   "cell_type": "code",
   "execution_count": 6,
   "id": "c37f0aba-12f8-40c4-8cb0-1b9d8082082d",
   "metadata": {},
   "outputs": [
    {
     "name": "stdout",
     "output_type": "stream",
     "text": [
      "ABd1234@1: Valid\n",
      "abcdef: Invalid\n",
      "123456: Invalid\n",
      "ABCD12: Invalid\n",
      "abcD12#: Valid\n"
     ]
    }
   ],
   "source": [
    "import re\n",
    "\n",
    "def check_password(password):\n",
    "    if len(password) < 6 or len(password) > 12:\n",
    "        return False\n",
    "    if ' ' in password:\n",
    "        return False\n",
    "    if not re.search(r\"[A-Z]\", password):\n",
    "        return False\n",
    "    if not re.search(r\"[a-z]\", password):\n",
    "        return False\n",
    "    if not re.search(r\"[0-9]\", password):\n",
    "        return False\n",
    "    if not re.search(r\"[!@#$%^&*]\", password):\n",
    "        return False\n",
    "    return True\n",
    "\n",
    "# Example passwords\n",
    "passwords = [\"ABd1234@1\", \"abcdef\", \"123456\", \"ABCD12\", \"abcD12#\"]\n",
    "\n",
    "for pwd in passwords:\n",
    "    print(f\"{pwd}: {'Valid' if check_password(pwd) else 'Invalid'}\")"
   ]
  },
  {
   "cell_type": "code",
   "execution_count": null,
   "id": "1f930e21-de05-43a2-a7cd-e2722eb45e41",
   "metadata": {},
   "outputs": [],
   "source": []
  }
 ],
 "metadata": {
  "kernelspec": {
   "display_name": "Python [conda env:base] *",
   "language": "python",
   "name": "conda-base-py"
  },
  "language_info": {
   "codemirror_mode": {
    "name": "ipython",
    "version": 3
   },
   "file_extension": ".py",
   "mimetype": "text/x-python",
   "name": "python",
   "nbconvert_exporter": "python",
   "pygments_lexer": "ipython3",
   "version": "3.13.5"
  }
 },
 "nbformat": 4,
 "nbformat_minor": 5
}
