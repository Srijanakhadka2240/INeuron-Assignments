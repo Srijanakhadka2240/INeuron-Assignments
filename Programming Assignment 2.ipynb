{
 "cells": [
  {
   "cell_type": "code",
   "execution_count": 3,
   "id": "a52bd3d5-0df1-4c27-b523-1b2923428daa",
   "metadata": {},
   "outputs": [
    {
     "name": "stdin",
     "output_type": "stream",
     "text": [
      "Enter distance in kilometers:  10\n"
     ]
    },
    {
     "name": "stdout",
     "output_type": "stream",
     "text": [
      "10.0 kilometers is equal to 6.21371 miles.\n",
      "\n"
     ]
    }
   ],
   "source": [
    "def km_to_miles(km):\n",
    "    miles = km * 0.621371\n",
    "    return miles\n",
    "\n",
    "km_value = float(input(\"Enter distance in kilometers: \"))\n",
    "print(f\"{km_value} kilometers is equal to {km_to_miles(km_value)} miles.\\n\")"
   ]
  },
  {
   "cell_type": "code",
   "execution_count": 4,
   "id": "636af0b5-0dad-4007-86e6-aae7169ce645",
   "metadata": {},
   "outputs": [
    {
     "name": "stdin",
     "output_type": "stream",
     "text": [
      "Enter temperature in Celsius:  100\n"
     ]
    },
    {
     "name": "stdout",
     "output_type": "stream",
     "text": [
      "100.0 Celsius is equal to 212.0 Fahrenheit.\n",
      "\n"
     ]
    }
   ],
   "source": [
    "def celsius_to_fahrenheit(celsius):\n",
    "    fahrenheit = (celsius * 9/5) + 32\n",
    "    return fahrenheit\n",
    "\n",
    "celsius_value = float(input(\"Enter temperature in Celsius: \"))\n",
    "print(f\"{celsius_value} Celsius is equal to {celsius_to_fahrenheit(celsius_value)} Fahrenheit.\\n\")"
   ]
  },
  {
   "cell_type": "code",
   "execution_count": 5,
   "id": "ea1a09ce-3599-4887-9ff0-fc55649fe2a0",
   "metadata": {},
   "outputs": [
    {
     "name": "stdin",
     "output_type": "stream",
     "text": [
      "Enter year (e.g. 2025):  1994\n",
      "Enter month (1-12):  11\n"
     ]
    },
    {
     "name": "stdout",
     "output_type": "stream",
     "text": [
      "\n",
      "Here is the calendar:\n",
      "   November 1994\n",
      "Mo Tu We Th Fr Sa Su\n",
      "    1  2  3  4  5  6\n",
      " 7  8  9 10 11 12 13\n",
      "14 15 16 17 18 19 20\n",
      "21 22 23 24 25 26 27\n",
      "28 29 30\n",
      "\n"
     ]
    }
   ],
   "source": [
    "import calendar\n",
    "\n",
    "year = int(input(\"Enter year (e.g. 2025): \"))\n",
    "month = int(input(\"Enter month (1-12): \"))\n",
    "print(\"\\nHere is the calendar:\")\n",
    "print(calendar.month(year, month))"
   ]
  },
  {
   "cell_type": "code",
   "execution_count": 6,
   "id": "1cb2f214-ef75-46f1-8067-79cf482aa9d0",
   "metadata": {},
   "outputs": [
    {
     "name": "stdin",
     "output_type": "stream",
     "text": [
      "Enter coefficient a:  25\n",
      "Enter coefficient b:  125\n",
      "Enter coefficient c:  144\n"
     ]
    },
    {
     "name": "stdout",
     "output_type": "stream",
     "text": [
      "Roots are real and different: -1.8 and -3.2 \n",
      "\n"
     ]
    }
   ],
   "source": [
    "import math\n",
    "\n",
    "def solve_quadratic(a, b, c):\n",
    "    d = b**2 - 4*a*c  # discriminant\n",
    "    if d > 0:\n",
    "        root1 = (-b + math.sqrt(d)) / (2*a)\n",
    "        root2 = (-b - math.sqrt(d)) / (2*a)\n",
    "        return f\"Roots are real and different: {root1} and {root2}\"\n",
    "    elif d == 0:\n",
    "        root = -b / (2*a)\n",
    "        return f\"Roots are real and same: {root}\"\n",
    "    else:\n",
    "        real_part = -b / (2*a)\n",
    "        imaginary_part = math.sqrt(-d) / (2*a)\n",
    "        return f\"Roots are complex: {real_part}+{imaginary_part}i and {real_part}-{imaginary_part}i\"\n",
    "\n",
    "a = float(input(\"Enter coefficient a: \"))\n",
    "b = float(input(\"Enter coefficient b: \"))\n",
    "c = float(input(\"Enter coefficient c: \"))\n",
    "print(solve_quadratic(a, b, c), \"\\n\")"
   ]
  },
  {
   "cell_type": "code",
   "execution_count": 7,
   "id": "007d2d1e-609c-4edc-a899-a35e687b9ed1",
   "metadata": {},
   "outputs": [
    {
     "name": "stdin",
     "output_type": "stream",
     "text": [
      "Enter first variable x:  25\n",
      "Enter second variable y:  81\n"
     ]
    },
    {
     "name": "stdout",
     "output_type": "stream",
     "text": [
      "Before swapping: x = 25, y = 81\n",
      "After swapping: x = 81, y = 25\n"
     ]
    }
   ],
   "source": [
    "x = input(\"Enter first variable x: \")\n",
    "y = input(\"Enter second variable y: \")\n",
    "\n",
    "print(f\"Before swapping: x = {x}, y = {y}\")\n",
    "x, y = y, x\n",
    "print(f\"After swapping: x = {x}, y = {y}\")"
   ]
  },
  {
   "cell_type": "code",
   "execution_count": null,
   "id": "ad9d0041-9e68-4ec7-8949-d04fe7c92015",
   "metadata": {},
   "outputs": [],
   "source": []
  }
 ],
 "metadata": {
  "kernelspec": {
   "display_name": "Python [conda env:base] *",
   "language": "python",
   "name": "conda-base-py"
  },
  "language_info": {
   "codemirror_mode": {
    "name": "ipython",
    "version": 3
   },
   "file_extension": ".py",
   "mimetype": "text/x-python",
   "name": "python",
   "nbconvert_exporter": "python",
   "pygments_lexer": "ipython3",
   "version": "3.13.5"
  }
 },
 "nbformat": 4,
 "nbformat_minor": 5
}
