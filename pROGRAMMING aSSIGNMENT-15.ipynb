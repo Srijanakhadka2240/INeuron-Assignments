{
 "cells": [
  {
   "cell_type": "code",
   "execution_count": 1,
   "id": "af9730a6-ebbe-4a5c-b4db-5fbfbb5f1cf8",
   "metadata": {},
   "outputs": [
    {
     "name": "stdin",
     "output_type": "stream",
     "text": [
      "Enter the value of n:  45\n"
     ]
    },
    {
     "name": "stdout",
     "output_type": "stream",
     "text": [
      "0,35\n"
     ]
    }
   ],
   "source": [
    "def divisible_by_5_and_7(n):\n",
    "    for num in range(n + 1):\n",
    "        if num % 5 == 0 and num % 7 == 0:\n",
    "            yield num\n",
    "\n",
    "n = int(input(\"Enter the value of n: \"))\n",
    "result = list(divisible_by_5_and_7(n))\n",
    "print(\",\".join(map(str, result)))\n"
   ]
  },
  {
   "cell_type": "code",
   "execution_count": 2,
   "id": "2cb2ea53-85f8-4680-837e-f47f1b3af745",
   "metadata": {},
   "outputs": [
    {
     "name": "stdout",
     "output_type": "stream",
     "text": [
      "Even numbers between 0 and 20:\n",
      "0,2,4,6,8,10,12,14,16,18,20\n"
     ]
    }
   ],
   "source": [
    "def even_numbers(n):\n",
    "    for num in range(n + 1):\n",
    "        if num % 2 == 0:\n",
    "            yield num\n",
    "\n",
    "# Example input\n",
    "n = 20\n",
    "result = list(even_numbers(n))\n",
    "print(f\"Even numbers between 0 and {n}:\")\n",
    "print(\",\".join(map(str, result)))"
   ]
  },
  {
   "cell_type": "code",
   "execution_count": 3,
   "id": "6dd16030-c614-47f1-8fc5-6f80b56f13a3",
   "metadata": {},
   "outputs": [
    {
     "name": "stdout",
     "output_type": "stream",
     "text": [
      "Fibonacci sequence with 10 terms:\n",
      "0,1,1,2,3,5,8,13,21,34\n"
     ]
    }
   ],
   "source": [
    "n = 10  # Example input: number of terms\n",
    "\n",
    "fib = [0, 1]\n",
    "if n == 1:\n",
    "    result = [0]\n",
    "elif n > 1:\n",
    "    [fib.append(fib[-1] + fib[-2]) for _ in range(n-2)]\n",
    "    result = fib[:n]\n",
    "else:\n",
    "    result = []\n",
    "\n",
    "print(f\"Fibonacci sequence with {n} terms:\")\n",
    "print(\",\".join(map(str, result)))\n"
   ]
  },
  {
   "cell_type": "code",
   "execution_count": 4,
   "id": "f8f738bd-9a32-48d0-a109-fbe914e1c091",
   "metadata": {},
   "outputs": [
    {
     "name": "stdout",
     "output_type": "stream",
     "text": [
      "Username extracted from 'johnsmith@company.com': johnsmith\n"
     ]
    }
   ],
   "source": [
    "email = \"johnsmith@company.com\"\n",
    "username = email.split(\"@\")[0]\n",
    "print(f\"Username extracted from '{email}': {username}\")"
   ]
  },
  {
   "cell_type": "code",
   "execution_count": 5,
   "id": "e83f5d1b-da3a-47b6-90b9-2dc956eea865",
   "metadata": {},
   "outputs": [
    {
     "name": "stdout",
     "output_type": "stream",
     "text": [
      "Area of square with length 7: 49\n"
     ]
    }
   ],
   "source": [
    "class Shape:\n",
    "    def area(self):\n",
    "        return 0\n",
    "\n",
    "class Square(Shape):\n",
    "    def __init__(self, length):\n",
    "        self.length = length\n",
    "\n",
    "    def area(self):\n",
    "        return self.length * self.length\n",
    "\n",
    "# Example usage:\n",
    "sq = Square(7)\n",
    "print(f\"Area of square with length {sq.length}: {sq.area()}\")\n"
   ]
  },
  {
   "cell_type": "code",
   "execution_count": null,
   "id": "56cdd8d6-e06d-48e0-b3bf-df50da256286",
   "metadata": {},
   "outputs": [],
   "source": []
  }
 ],
 "metadata": {
  "kernelspec": {
   "display_name": "Python [conda env:base] *",
   "language": "python",
   "name": "conda-base-py"
  },
  "language_info": {
   "codemirror_mode": {
    "name": "ipython",
    "version": 3
   },
   "file_extension": ".py",
   "mimetype": "text/x-python",
   "name": "python",
   "nbconvert_exporter": "python",
   "pygments_lexer": "ipython3",
   "version": "3.13.5"
  }
 },
 "nbformat": 4,
 "nbformat_minor": 5
}
